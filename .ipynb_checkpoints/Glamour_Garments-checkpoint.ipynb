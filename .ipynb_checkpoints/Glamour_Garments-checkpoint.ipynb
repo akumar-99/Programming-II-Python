{
 "cells": [
  {
   "cell_type": "code",
   "execution_count": 1,
   "metadata": {},
   "outputs": [
    {
     "ename": "NameError",
     "evalue": "name 'bill' is not defined",
     "output_type": "error",
     "traceback": [
      "\u001b[1;31m---------------------------------------------------------------------------\u001b[0m",
      "\u001b[1;31mNameError\u001b[0m                                 Traceback (most recent call last)",
      "\u001b[1;32m<ipython-input-1-bfccb61ec41e>\u001b[0m in \u001b[0;36m<module>\u001b[1;34m\u001b[0m\n\u001b[0;32m     14\u001b[0m \u001b[0mlabel_bill\u001b[0m\u001b[1;33m.\u001b[0m\u001b[0mgrid\u001b[0m\u001b[1;33m(\u001b[0m\u001b[0mcolumn\u001b[0m \u001b[1;33m=\u001b[0m \u001b[1;36m0\u001b[0m\u001b[1;33m,\u001b[0m \u001b[0mrow\u001b[0m \u001b[1;33m=\u001b[0m \u001b[1;36m1\u001b[0m\u001b[1;33m)\u001b[0m\u001b[1;33m\u001b[0m\u001b[1;33m\u001b[0m\u001b[0m\n\u001b[0;32m     15\u001b[0m \u001b[0mroll\u001b[0m \u001b[1;33m=\u001b[0m \u001b[0mIntVar\u001b[0m\u001b[1;33m(\u001b[0m\u001b[1;33m)\u001b[0m\u001b[1;33m\u001b[0m\u001b[1;33m\u001b[0m\u001b[0m\n\u001b[1;32m---> 16\u001b[1;33m \u001b[0mbillEntered\u001b[0m \u001b[1;33m=\u001b[0m \u001b[0mEntry\u001b[0m\u001b[1;33m(\u001b[0m\u001b[0mwin\u001b[0m\u001b[1;33m,\u001b[0m \u001b[0mtextvariable\u001b[0m \u001b[1;33m=\u001b[0m \u001b[0mbill\u001b[0m\u001b[1;33m,\u001b[0m \u001b[0mwidth\u001b[0m\u001b[1;33m=\u001b[0m\u001b[1;36m20\u001b[0m\u001b[1;33m)\u001b[0m\u001b[1;33m\u001b[0m\u001b[1;33m\u001b[0m\u001b[0m\n\u001b[0m\u001b[0;32m     17\u001b[0m \u001b[0mbillEntered\u001b[0m\u001b[1;33m.\u001b[0m\u001b[0mgrid\u001b[0m\u001b[1;33m(\u001b[0m\u001b[0mcolumn\u001b[0m \u001b[1;33m=\u001b[0m \u001b[1;36m1\u001b[0m\u001b[1;33m,\u001b[0m \u001b[0mrow\u001b[0m \u001b[1;33m=\u001b[0m \u001b[1;36m1\u001b[0m\u001b[1;33m)\u001b[0m\u001b[1;33m\u001b[0m\u001b[1;33m\u001b[0m\u001b[0m\n\u001b[0;32m     18\u001b[0m \u001b[1;33m\u001b[0m\u001b[0m\n",
      "\u001b[1;31mNameError\u001b[0m: name 'bill' is not defined"
     ]
    }
   ],
   "source": [
    "from tkinter import * #package\n",
    "from tkinter import ttk\n",
    "win = Tk() #event loop\n",
    "# win.geometry(\"1024x720\")\n",
    "win.title(\"Python GUI\") #created an object\n",
    "\n",
    "label_name = Label(win, text = \"Name of Customer\", height=2)\n",
    "label_name.grid(column = 0, row = 0)\n",
    "name = StringVar()\n",
    "nameEntered = Entry(win, textvariable = name, state=\"disable\")\n",
    "nameEntered.grid(column = 1, row = 0)\n",
    "\n",
    "label_bill = Label(win, text = \"Bill Amount\", height=2)\n",
    "label_bill.grid(column = 0, row = 1)\n",
    "bill = IntVar()\n",
    "billEntered = Entry(win, textvariable = bill, width=20)\n",
    "billEntered.grid(column = 1, row = 1)\n",
    "\n",
    "# label_marks = Label(win, text = \"MARKS\", height=2, width=20)\n",
    "# label_marks.grid(column = 0, row = 2)\n",
    "# marks = IntVar()\n",
    "# numberChosen = ttk.Combobox(win, textvariable = marks, state = \"readonly\", width=20)\n",
    "# x = []\n",
    "# for i in range(100):\n",
    "#     x.append(i)\n",
    "# numberChosen['values'] = tuple(x)\n",
    "# numberChosen.grid(column = 1, row = 2)\n",
    "# numberChosen.current(0)\n",
    "\n",
    "# label_details = Label(win, text = \"\")\n",
    "# label_details.grid(column = 0, row = 3, columnspan = 2)\n",
    "# label_grade = Label(win, text = \"\")\n",
    "# label_grade.grid(column = 0, row = 4, columnspan = 2)\n",
    "\n",
    "# def clickMe():\n",
    "#     label_details.configure(text = \"Student {0} with Roll No {1} has secured {2} marks\".format(name.get(),roll.get(),marks.get()), foreground='red')\n",
    "#     grade = None\n",
    "#     if (marks.get()>0 and marks.get()<=20):\n",
    "#         grade = \"D\"\n",
    "#     elif (marks.get()>20 and marks.get()<=30):\n",
    "#         grade = \"C+\"\n",
    "#     elif (marks.get()>30 and marks.get()<=40):\n",
    "#         grade = \"B\"\n",
    "#     elif (marks.get()>40 and marks.get()<=50):\n",
    "#         grade = \"B+\"\n",
    "#     elif (marks.get()>50 and marks.get()<=70):\n",
    "#         grade = \"A\"\n",
    "#     elif (marks.get()>70 and marks.get()<=100):\n",
    "#         grade = \"A+\"\n",
    "#     label_grade.configure(text = \"Student gets {0} grade.\".format(grade), foreground='red')\n",
    "# action = Button(win, text = \"CLICK ME\", command = clickMe)\n",
    "# action.grid(column=1, row=5)\n",
    "\n",
    "nameEntered.focus()\n",
    "win.mainloop() "
   ]
  },
  {
   "cell_type": "code",
   "execution_count": null,
   "metadata": {},
   "outputs": [],
   "source": []
  }
 ],
 "metadata": {
  "kernelspec": {
   "display_name": "Python 3",
   "language": "python",
   "name": "python3"
  },
  "language_info": {
   "codemirror_mode": {
    "name": "ipython",
    "version": 3
   },
   "file_extension": ".py",
   "mimetype": "text/x-python",
   "name": "python",
   "nbconvert_exporter": "python",
   "pygments_lexer": "ipython3",
   "version": "3.7.4"
  }
 },
 "nbformat": 4,
 "nbformat_minor": 2
}
