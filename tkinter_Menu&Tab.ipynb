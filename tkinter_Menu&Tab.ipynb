{
 "cells": [
  {
   "cell_type": "code",
   "execution_count": 1,
   "metadata": {},
   "outputs": [],
   "source": [
    "from tkinter import Menu\n",
    "import tkinter as tk\n",
    "win = tk.Tk()\n",
    "\n",
    "menuBar = Menu(win)\n",
    "win.config(menu = menuBar)\n",
    "\n",
    "fileMenu = Menu(menuBar)\n",
    "menuBar.add_cascade(label = 'File', menu = fileMenu)\n",
    "fileMenu.add_command(label = 'New')\n",
    "\n",
    "newMenu = Menu(menuBar)\n",
    "fileMenu.add_cascade(label = 'Command', menu = newMenu)\n",
    "newMenu.add_command(label = 'Say Hello')\n",
    "\n",
    "fileMenu.add_separator()\n",
    "\n",
    "aboutMenu = Menu(menuBar, tearoff = 0)\n",
    "menuBar.add_cascade(label = 'Help', menu = aboutMenu)\n",
    "aboutMenu.add_command(label = 'About')\n",
    "\n",
    "def _quit():\n",
    "    win.quit()\n",
    "    win.destroy()\n",
    "#     to kill your kernel\n",
    "#     exit()\n",
    "    \n",
    "fileMenu.add_command(label=\"Exit\", command = _quit)\n",
    "win.mainloop()"
   ]
  },
  {
   "cell_type": "code",
   "execution_count": 8,
   "metadata": {},
   "outputs": [],
   "source": [
    "import tkinter as tk\n",
    "from tkinter import ttk\n",
    "win = tk.Tk()\n",
    "win.title(\"GUI\")\n",
    "\n",
    "tabControl = ttk.Notebook(win)\n",
    "tabControl.pack(expand = 1, fill = 'both')\n",
    "\n",
    "tab1 = ttk.Frame(tabControl)\n",
    "tabControl.add(tab1, text = 'Tab 1')\n",
    "monty = ttk.LabelFrame(tab1, text = 'Monty Python')\n",
    "monty.grid(column = 0, row = 0, padx = 8, pady = 4)\n",
    "ttk.Label(monty, text = 'Enter a Name').grid(column = 0, row = 0, sticky = 'W')\n",
    "\n",
    "tab2 = ttk.Frame(tabControl)\n",
    "tabControl.add(tab2, text = 'Tab 2')\n",
    "monty2 = ttk.LabelFrame(tab2, text = 'The Snake')\n",
    "monty2.grid(column = 0, row = 0, padx = 8, pady = 4)\n",
    "chVarDis = tk.IntVar()\n",
    "check1 = tk.Checkbutton(monty2, text = 'Disabled', variable = chVarDis, state = 'disabled')\n",
    "check1.grid(column = 0, row = 0)\n",
    "\n",
    "win.mainloop()"
   ]
  },
  {
   "cell_type": "code",
   "execution_count": null,
   "metadata": {},
   "outputs": [],
   "source": []
  }
 ],
 "metadata": {
  "kernelspec": {
   "display_name": "Python 3",
   "language": "python",
   "name": "python3"
  },
  "language_info": {
   "codemirror_mode": {
    "name": "ipython",
    "version": 3
   },
   "file_extension": ".py",
   "mimetype": "text/x-python",
   "name": "python",
   "nbconvert_exporter": "python",
   "pygments_lexer": "ipython3",
   "version": "3.7.4"
  }
 },
 "nbformat": 4,
 "nbformat_minor": 2
}
