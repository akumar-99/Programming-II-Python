{
 "cells": [
  {
   "cell_type": "code",
   "execution_count": 1,
   "metadata": {},
   "outputs": [],
   "source": [
    "from tkinter import * #package\n",
    "win = Tk() #event loop\n",
    "win.title(\"Python GUI\") #created an object\n",
    "win.resizable \n",
    "win.mainloop() "
   ]
  },
  {
   "cell_type": "code",
   "execution_count": 2,
   "metadata": {},
   "outputs": [],
   "source": [
    "from tkinter import * #package\n",
    "# from tkinter import ttk\n",
    "win = Tk() #event loop\n",
    "win.title(\"Python GUI\") #created an object\n",
    "win.resizable \n",
    "a = Label(win, text = \"DARSHAN\").grid(column = 0, row = 3)\n",
    "win.mainloop() "
   ]
  },
  {
   "cell_type": "code",
   "execution_count": 1,
   "metadata": {},
   "outputs": [],
   "source": [
    "from tkinter import * #package\n",
    "# from tkinter import ttk\n",
    "win = Tk() #event loop\n",
    "win.title(\"Python GUI\") #created an object\n",
    "win.resizable \n",
    "label_a = Label(win, text = \"DARSHAN\")\n",
    "label_a.grid(column = 0, row = 0)\n",
    "def clickMe():\n",
    "    action.configure(text = \"YALILI\")\n",
    "    label_a.configure(foreground='red')\n",
    "action = Button(win, text = \"CLICK ME\", command = clickMe)\n",
    "action.grid(column=0, row=1)\n",
    "win.mainloop() "
   ]
  },
  {
   "cell_type": "code",
   "execution_count": 2,
   "metadata": {},
   "outputs": [],
   "source": [
    "from tkinter import * #package\n",
    "# from tkinter import ttk\n",
    "win = Tk() #event loop\n",
    "win.title(\"Python GUI\") #created an object\n",
    "win.resizable \n",
    "label_a = Label(win, text = \"DARSHAN\")\n",
    "label_a.grid(column = 0, row = 0)\n",
    "def clickMe():\n",
    "    action.configure(text = \"YALILI\")\n",
    "    label_a.configure(foreground='red')\n",
    "action = Button(win, text = \"CLICK ME\", command = clickMe)\n",
    "action.grid(column=0, row=1)\n",
    "name = StringVar()\n",
    "nameEntered = Entry(win, width=12, textvariable = name)\n",
    "nameEntered.grid(column = 0, row = 2)\n",
    "win.mainloop() "
   ]
  },
  {
   "cell_type": "code",
   "execution_count": 3,
   "metadata": {},
   "outputs": [],
   "source": [
    "from tkinter import * #package\n",
    "win = Tk() #event loop\n",
    "win.title(\"Python GUI\") #created an object\n",
    "\n",
    "label_name = Label(win, text = \"NAME\")\n",
    "label_name.grid(column = 0, row = 0)\n",
    "\n",
    "name = StringVar()\n",
    "nameEntered = Entry(win, width=12, textvariable = name)\n",
    "nameEntered.grid(column = 2, row = 0)\n",
    "\n",
    "label_rollno = Label(win, text = \"ROLL NO.\")\n",
    "label_rollno.grid(column = 0, row = 1)\n",
    "\n",
    "name = StringVar()\n",
    "rollNo = Entry(win, width=12, textvariable = name)\n",
    "rollNo.grid(column = 2, row = 1)\n",
    "\n",
    "def clickMe1():\n",
    "    nameEntered.delete(first=0,last=22)\n",
    "action = Button(win, text = \"CLICK ME\", command = clickMe1)\n",
    "action.grid(column=0, row=3)\n",
    "\n",
    "# def clickMe2():\n",
    "#     action.configure(text = \"YALILI\")\n",
    "#     label_a.configure(foreground='red')\n",
    "# action = Button(win, text = \"CLICK ME\", command = clickMe2)\n",
    "# action.grid(column=2, row=3)\n",
    "\n",
    "win.mainloop() "
   ]
  },
  {
   "cell_type": "code",
   "execution_count": 7,
   "metadata": {},
   "outputs": [],
   "source": [
    "from tkinter import*\n",
    "\n",
    "master=Tk()\n",
    "\n",
    "def e1_delete():\n",
    "    e1.delete(first=0,last=22)\n",
    "\n",
    "e1=Entry(master, width=20)\n",
    "e1.pack()\n",
    "\n",
    "B=Button(master, text=\"Submit\", command=e1_delete)\n",
    "B.pack()\n",
    "\n",
    "master.mainloop()"
   ]
  },
  {
   "cell_type": "code",
   "execution_count": 4,
   "metadata": {},
   "outputs": [],
   "source": [
    "x = ('x',)"
   ]
  },
  {
   "cell_type": "code",
   "execution_count": 5,
   "metadata": {},
   "outputs": [
    {
     "data": {
      "text/plain": [
       "tuple"
      ]
     },
     "execution_count": 5,
     "metadata": {},
     "output_type": "execute_result"
    }
   ],
   "source": [
    "type(x)"
   ]
  },
  {
   "cell_type": "code",
   "execution_count": null,
   "metadata": {},
   "outputs": [],
   "source": []
  }
 ],
 "metadata": {
  "kernelspec": {
   "display_name": "Python 3",
   "language": "python",
   "name": "python3"
  },
  "language_info": {
   "codemirror_mode": {
    "name": "ipython",
    "version": 3
   },
   "file_extension": ".py",
   "mimetype": "text/x-python",
   "name": "python",
   "nbconvert_exporter": "python",
   "pygments_lexer": "ipython3",
   "version": "3.7.4"
  }
 },
 "nbformat": 4,
 "nbformat_minor": 2
}
